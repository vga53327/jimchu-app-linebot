{
 "cells": [
  {
   "cell_type": "code",
   "execution_count": 1,
   "metadata": {},
   "outputs": [],
   "source": [
    "from linebot import LineBotApi, WebhookHandler\n",
    "import configparser\n",
    "# from linebot.models import MessageEvent, TextMessage, TextSendMessage\n",
    "\n",
    "config = configparser.ConfigParser()\n",
    "config.read('config.ini')\n",
    "\n",
    "line_bot_api = LineBotApi(config.get('line-bot', 'channel_access_token'))\n",
    "handler = WebhookHandler(config.get('line-bot', 'channel_secret'))"
   ]
  },
  {
   "cell_type": "code",
   "execution_count": 2,
   "metadata": {},
   "outputs": [
    {
     "data": {
      "text/plain": [
       "<linebot.api.LineBotApi at 0x1957fe95988>"
      ]
     },
     "execution_count": 2,
     "metadata": {},
     "output_type": "execute_result"
    }
   ],
   "source": [
    "line_bot_api"
   ]
  },
  {
   "cell_type": "code",
   "execution_count": 3,
   "metadata": {},
   "outputs": [
    {
     "data": {
      "text/plain": [
       "'6lyMot0RjpY4vBEEcUgwY4DVd2bhPVCZC6oUzXPluOEaGep6qB9sYxPp9c16eGiwuiQNcgtQKUbykxKBYQMaDa6USKVckF2/2u/vxRAHMN4uu1Bv95+T9nJTx/SvmwMr4OKwQEnJPoA6+/9H871WmgdB04t89/1O/w1cDnyilFU='"
      ]
     },
     "execution_count": 3,
     "metadata": {},
     "output_type": "execute_result"
    }
   ],
   "source": [
    "config.get('line-bot', 'channel_access_token')"
   ]
  },
  {
   "cell_type": "code",
   "execution_count": 4,
   "metadata": {},
   "outputs": [
    {
     "data": {
      "text/plain": [
       "'da35a2be6de2b718a8fa24fe72321843'"
      ]
     },
     "execution_count": 4,
     "metadata": {},
     "output_type": "execute_result"
    }
   ],
   "source": [
    "config.get('line-bot', 'channel_secret')"
   ]
  },
  {
   "cell_type": "code",
   "execution_count": 5,
   "metadata": {},
   "outputs": [],
   "source": [
    "from linebot.models import ImageSendMessage"
   ]
  },
  {
   "cell_type": "code",
   "execution_count": 6,
   "metadata": {},
   "outputs": [],
   "source": [
    "image_message = ImageSendMessage(\n",
    "    original_content_url='https://example.com/original.jpg',\n",
    "    preview_image_url='https://example.com/preview.jpg'\n",
    ")"
   ]
  },
  {
   "cell_type": "code",
   "execution_count": 7,
   "metadata": {},
   "outputs": [],
   "source": [
    "import urllib"
   ]
  },
  {
   "cell_type": "code",
   "execution_count": 8,
   "metadata": {},
   "outputs": [],
   "source": [
    "url = \"https://www.google.com/\"\n",
    "headers = {'User-Agent':'Mozilla/5.0 (Windows NT 10.0; Win64; x64) AppleWebKit/537.36 (KHTML, like Gecko) Chrome/76.0.3809.132 Safari/537.36'}  \n",
    "\n",
    "req = urllib.request.Request(url, headers = headers)\n",
    "conn = urllib.request.urlopen(req)"
   ]
  },
  {
   "cell_type": "code",
   "execution_count": 9,
   "metadata": {},
   "outputs": [],
   "source": [
    "search_url = 'https://www.google.com/search?biw=1368&bih=721&tbm=isch&sa=1&ei=PTyEXce_IJG2mAWx7ogo&q=%E9%82%A6%E5%B9%AB%E5%BF%99'\n",
    "search_url2 = 'https://www.google.com/search?q=Using+LINE%40+features&rlz=1C1CHZN_zh-TWTW909TW909&oq=Using+LINE%40+features&aqs=chrome..69i57.564j0j7&sourceid=chrome&ie=UTF-8'"
   ]
  },
  {
   "cell_type": "code",
   "execution_count": 11,
   "metadata": {},
   "outputs": [
    {
     "name": "stdout",
     "output_type": "stream",
     "text": [
      "ParseResult(scheme='https', netloc='www.google.com', path='/search', params='', query='biw=1368&bih=721&tbm=isch&sa=1&ei=PTyEXce_IJG2mAWx7ogo&q=%E9%82%A6%E5%B9%AB%E5%BF%99', fragment='')\n"
     ]
    }
   ],
   "source": [
    "search_url.split('&')\n",
    "u = urllib.parse.urlparse(search_url)\n",
    "urllib.parse.parse_qs(u[4])"
   ]
  },
  {
   "cell_type": "code",
   "execution_count": 13,
   "metadata": {},
   "outputs": [
    {
     "name": "stdout",
     "output_type": "stream",
     "text": [
      "https://www.google.com/search?tbm=isch&q=%E9%82%A6%E5%B9%AB%E5%BF%99/\n"
     ]
    }
   ],
   "source": [
    "我想找圖 = {'tbm': 'isch', 'q': '邦幫忙'}\n",
    "url = f\"https://www.google.com/search?{urllib.parse.urlencode(我想找圖)}/\"\n",
    "print(url)"
   ]
  },
  {
   "cell_type": "code",
   "execution_count": 14,
   "metadata": {},
   "outputs": [],
   "source": [
    "import requests\n",
    "from pyquery import PyQuery as pq"
   ]
  },
  {
   "cell_type": "code",
   "execution_count": 15,
   "metadata": {},
   "outputs": [],
   "source": [
    "res = requests.get(url)"
   ]
  },
  {
   "cell_type": "code",
   "execution_count": 16,
   "metadata": {},
   "outputs": [],
   "source": [
    "doc = pq(res.text)"
   ]
  },
  {
   "cell_type": "code",
   "execution_count": 17,
   "metadata": {},
   "outputs": [
    {
     "name": "stdout",
     "output_type": "stream",
     "text": [
      "/images/branding/searchlogo/1x/googlelogo_desk_heirloom_color_150x55dp.gif\n",
      "https://encrypted-tbn0.gstatic.com/images?q=tbn:ANd9GcSbJ_XOmzj_qQGc_vRFyJ_XtRTOB9dNuuzeT2opz4VqiIJS5it9wiPZs_amv1I&s\n",
      "https://encrypted-tbn0.gstatic.com/images?q=tbn:ANd9GcQfb2XlmsD2bPAGDI2Q8EjPol21JJYI964oSbCGBCR_Ygow9N8JBYZ22q9BXw&s\n",
      "https://encrypted-tbn0.gstatic.com/images?q=tbn:ANd9GcS5OYUaCE9DKW5hfaaFX1uVHQUdV8-a84uLjnXpfkpDVROkpCWR3GfYlQexXQ&s\n",
      "https://encrypted-tbn0.gstatic.com/images?q=tbn:ANd9GcQRn993vH7uWsh7JjASYBB0f5RMubN1jiBKXl3Z-rLhZdoXU7-JqB1pS9xEQdQ&s\n",
      "https://encrypted-tbn0.gstatic.com/images?q=tbn:ANd9GcQtSkDsjkQ1r1zUOuT_HLb5BISvrcdTNZuIlcoySSCOcx_bK-Uw6zW5WmugupU&s\n",
      "https://encrypted-tbn0.gstatic.com/images?q=tbn:ANd9GcSbjat2YNCcNPq3EL_kLemDua55aI0N5dkpzKBbcMo8fBbuUjdgswA3xxMAjA&s\n",
      "https://encrypted-tbn0.gstatic.com/images?q=tbn:ANd9GcQMdmJc5NIjOKRhYaumNkAarBj_Utes4EhU9Jf1HSl6rTHq_C5HKXFrngQSo_4&s\n",
      "https://encrypted-tbn0.gstatic.com/images?q=tbn:ANd9GcQzOvi5hiHK9d1YPQEJA808BFVwvqFNyy032Jalw5ByruhMU1z03OGirGr7lqw&s\n",
      "https://encrypted-tbn0.gstatic.com/images?q=tbn:ANd9GcS9vUBe_gvgAyGt22TzX8l21oPGzgatIAKPSk63qK56q-8zQVsJ3LU_gzFqdxw&s\n",
      "https://encrypted-tbn0.gstatic.com/images?q=tbn:ANd9GcSDyudGCZ4vymcOSv0EiEGcqF2PlnvujwGkoj5GdW8o2fSiDezukRr7OKH1eA&s\n",
      "https://encrypted-tbn0.gstatic.com/images?q=tbn:ANd9GcSLLlX8TGYQ-LP3tjCJkTsqwBHaAUFAVsA0Rjuate6LCjHAXrVQfsI_NbUxqts&s\n",
      "https://encrypted-tbn0.gstatic.com/images?q=tbn:ANd9GcQsVck0e9d6epqKxvHfSRdShygX-m1_TsCWmiE9QJNjIX4LlsXnQiw2QwfZmw&s\n",
      "https://encrypted-tbn0.gstatic.com/images?q=tbn:ANd9GcQPkP6MIifl0Ugpvx5y73ndsPJv4LW1DjF5z8Y6YWc9VsOZqSQmx-Z9DC8Jytw&s\n",
      "https://encrypted-tbn0.gstatic.com/images?q=tbn:ANd9GcS1uWF1XcJiNfGGjuu1sPkhm_pifkvqbitDaRECDWxIWg7cU74MnR2ab_4CmG4&s\n",
      "https://encrypted-tbn0.gstatic.com/images?q=tbn:ANd9GcQWpdGQsZ4CAbwZ4uE-TB5zNqTZGQIogh_hoh6WeucdA3a3oAIAJ-frROMamDg&s\n",
      "https://encrypted-tbn0.gstatic.com/images?q=tbn:ANd9GcQz1NFaPEkFd-23lMR_STW6L6po6g8HKbmqVZmtzxlTB4GkV_yovZ9XibETJg&s\n",
      "https://encrypted-tbn0.gstatic.com/images?q=tbn:ANd9GcR_DqBREfDvQhJElPI83nCPm-HP8G9romHJacX1d8dDw8bUNIVohI_3baJK2tM&s\n",
      "https://encrypted-tbn0.gstatic.com/images?q=tbn:ANd9GcRAxpDkzOrBLhGgYB8-Vhn3IQNgBo6f9b3QIQkdzz8DPy1t7XEiwuHgMmik-A&s\n",
      "https://encrypted-tbn0.gstatic.com/images?q=tbn:ANd9GcSOrd6Op95riRmvIENCihtqGhxEUZmiofjNjeblqcbZesICwD_2Pa0qCmocwA&s\n",
      "https://encrypted-tbn0.gstatic.com/images?q=tbn:ANd9GcSlKxiuemXa_XqCdrA90RRr8ibAkKgI0W5doITdhALLwvOT7T46WzTlOU0ucRM&s\n"
     ]
    }
   ],
   "source": [
    "for i in doc('img').items():\n",
    "    print(i.attr('src'))"
   ]
  },
  {
   "cell_type": "code",
   "execution_count": null,
   "metadata": {},
   "outputs": [],
   "source": [
    "from apscheduler.schedulers.blocking import BlockingScheduler\n",
    "import time\n",
    "\n",
    "sched = BlockingScheduler()\n",
    "\n",
    "@sched.scheduled_job('interval', minutes=3)\n",
    "def timed_job():\n",
    "    print('This job is run every three minutes.')\n",
    "\n",
    "@sched.scheduled_job('cron', day_of_week='mon-fri', hour='*/20')\n",
    "def scheduled_job():\n",
    "    url = \"https://你-APP-的名字.herokuapp.com/\"\n",
    "    res = requests.get(url)\n",
    "\n",
    "    print('This job is run every weekday at 5pm.')\n",
    "\n",
    "sched.start()"
   ]
  },
  {
   "cell_type": "code",
   "execution_count": null,
   "metadata": {},
   "outputs": [],
   "source": []
  }
 ],
 "metadata": {
  "kernelspec": {
   "display_name": "Python 3",
   "language": "python",
   "name": "python3"
  },
  "language_info": {
   "codemirror_mode": {
    "name": "ipython",
    "version": 3
   },
   "file_extension": ".py",
   "mimetype": "text/x-python",
   "name": "python",
   "nbconvert_exporter": "python",
   "pygments_lexer": "ipython3",
   "version": "3.7.8"
  }
 },
 "nbformat": 4,
 "nbformat_minor": 4
}
